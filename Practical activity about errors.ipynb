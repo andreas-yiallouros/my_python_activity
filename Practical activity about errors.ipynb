{
 "cells": [
  {
   "cell_type": "markdown",
   "id": "5ef9f5e6",
   "metadata": {},
   "source": [
    "# Practical activity 1.2.8: Identify, interpret, and fix the errors\n",
    "### Andreas Yiallouros, 17 September 2022"
   ]
  },
  {
   "cell_type": "markdown",
   "id": "d8ef4309",
   "metadata": {},
   "source": [
    "### Code 1"
   ]
  },
  {
   "cell_type": "code",
   "execution_count": 1,
   "id": "a47bf88d",
   "metadata": {
    "scrolled": true
   },
   "outputs": [
    {
     "ename": "IndentationError",
     "evalue": "unexpected indent (2985161806.py, line 2)",
     "output_type": "error",
     "traceback": [
      "\u001b[0;36m  Input \u001b[0;32mIn [1]\u001b[0;36m\u001b[0m\n\u001b[0;31m    sales_price = 24500\u001b[0m\n\u001b[0m    ^\u001b[0m\n\u001b[0;31mIndentationError\u001b[0m\u001b[0;31m:\u001b[0m unexpected indent\n"
     ]
    }
   ],
   "source": [
    "# Print the price\n",
    "    sales_price = 24500\n",
    "    \n",
    "    print(total_price)"
   ]
  },
  {
   "cell_type": "markdown",
   "id": "097ad02e",
   "metadata": {},
   "source": [
    "The error message indicates there is an indentation in the wrong place.\n",
    "\n",
    "Indentation affects how the code is ran. Therefore, unnescesary indentations can cause logical errors.\n",
    "\n",
    "Fix: Remove the indentation in each of the two lines.\n",
    "\n",
    "I realised that I caused the indentation error with the way I copied the code into my Jupyter Notebook! Oops!"
   ]
  },
  {
   "cell_type": "code",
   "execution_count": 2,
   "id": "567bc8bb",
   "metadata": {},
   "outputs": [
    {
     "ename": "NameError",
     "evalue": "name 'total_price' is not defined",
     "output_type": "error",
     "traceback": [
      "\u001b[0;31m---------------------------------------------------------------------------\u001b[0m",
      "\u001b[0;31mNameError\u001b[0m                                 Traceback (most recent call last)",
      "Input \u001b[0;32mIn [2]\u001b[0m, in \u001b[0;36m<cell line: 4>\u001b[0;34m()\u001b[0m\n\u001b[1;32m      1\u001b[0m \u001b[38;5;66;03m# Print the price\u001b[39;00m\n\u001b[1;32m      2\u001b[0m sales_price \u001b[38;5;241m=\u001b[39m \u001b[38;5;241m24500\u001b[39m\n\u001b[0;32m----> 4\u001b[0m \u001b[38;5;28mprint\u001b[39m(\u001b[43mtotal_price\u001b[49m)\n",
      "\u001b[0;31mNameError\u001b[0m: name 'total_price' is not defined"
     ]
    }
   ],
   "source": [
    "# Print the price\n",
    "sales_price = 24500\n",
    "    \n",
    "print(total_price)"
   ]
  },
  {
   "cell_type": "markdown",
   "id": "8aecdd16",
   "metadata": {},
   "source": [
    "total_price is not defined. This is a logical error.\n",
    "\n",
    "Fix: Replace total_price with sales_price "
   ]
  },
  {
   "cell_type": "code",
   "execution_count": 3,
   "id": "54d63f8c",
   "metadata": {},
   "outputs": [
    {
     "name": "stdout",
     "output_type": "stream",
     "text": [
      "24500\n"
     ]
    }
   ],
   "source": [
    "# Print the price\n",
    "sales_price = 24500\n",
    "    \n",
    "print(sales_price)"
   ]
  },
  {
   "cell_type": "markdown",
   "id": "5fb9d99d",
   "metadata": {},
   "source": [
    "Success!"
   ]
  },
  {
   "cell_type": "markdown",
   "id": "6408700e",
   "metadata": {},
   "source": [
    "### Code 2"
   ]
  },
  {
   "cell_type": "code",
   "execution_count": 5,
   "id": "713fc45c",
   "metadata": {},
   "outputs": [
    {
     "ename": "SyntaxError",
     "evalue": "Missing parentheses in call to 'print'. Did you mean print(\"My name is James Bond\")? (1268318779.py, line 2)",
     "output_type": "error",
     "traceback": [
      "\u001b[0;36m  Input \u001b[0;32mIn [5]\u001b[0;36m\u001b[0m\n\u001b[0;31m    print \"My name is James Bond\"\u001b[0m\n\u001b[0m          ^\u001b[0m\n\u001b[0;31mSyntaxError\u001b[0m\u001b[0;31m:\u001b[0m Missing parentheses in call to 'print'. Did you mean print(\"My name is James Bond\")?\n"
     ]
    }
   ],
   "source": [
    "# Print a text string verbatim\n",
    "print \"My name is James Bond\""
   ]
  },
  {
   "cell_type": "markdown",
   "id": "c977a7b4",
   "metadata": {},
   "source": [
    "The nature of the error is clear from the error message - missing parentheses\n",
    "\n",
    "Fix: Delete space between the command word print and the string and open parentheses before the string and and close parentheses after the string."
   ]
  },
  {
   "cell_type": "code",
   "execution_count": 6,
   "id": "9c2ec13e",
   "metadata": {},
   "outputs": [
    {
     "name": "stdout",
     "output_type": "stream",
     "text": [
      "My name is James Bond\n"
     ]
    }
   ],
   "source": [
    "# Print a text string verbatim\n",
    "print(\"My name is James Bond\")"
   ]
  },
  {
   "cell_type": "markdown",
   "id": "69685fbf",
   "metadata": {},
   "source": [
    "Success!"
   ]
  },
  {
   "cell_type": "markdown",
   "id": "3d3af834",
   "metadata": {},
   "source": [
    "### Code 3"
   ]
  },
  {
   "cell_type": "code",
   "execution_count": 7,
   "id": "740baebe",
   "metadata": {},
   "outputs": [
    {
     "ename": "IndentationError",
     "evalue": "expected an indented block (3142826171.py, line 5)",
     "output_type": "error",
     "traceback": [
      "\u001b[0;36m  Input \u001b[0;32mIn [7]\u001b[0;36m\u001b[0m\n\u001b[0;31m    print('X is greater than 10')\u001b[0m\n\u001b[0m    ^\u001b[0m\n\u001b[0;31mIndentationError\u001b[0m\u001b[0;31m:\u001b[0m expected an indented block\n"
     ]
    }
   ],
   "source": [
    "# Determine if x is greater than 10\n",
    "x = 11 \n",
    "\n",
    "if x > 10:\n",
    "print('X is greater than 10')\n",
    "else: \n",
    "    print('x is not greater than 10')"
   ]
  },
  {
   "cell_type": "markdown",
   "id": "ea5310a4",
   "metadata": {},
   "source": [
    "The nature of the error is again clear from the error message - Indentation was needed at the third line of code... \n",
    "\n",
    "Fix: Add indentation (four spaces)"
   ]
  },
  {
   "cell_type": "code",
   "execution_count": 8,
   "id": "1a48c0ed",
   "metadata": {},
   "outputs": [
    {
     "name": "stdout",
     "output_type": "stream",
     "text": [
      "X is greater than 10\n"
     ]
    }
   ],
   "source": [
    "# Determine if x is greater than 10\n",
    "x = 11 \n",
    "\n",
    "if x > 10:\n",
    "    print('X is greater than 10')\n",
    "else: \n",
    "    print('x is not greater than 10')"
   ]
  },
  {
   "cell_type": "markdown",
   "id": "4a318a8a",
   "metadata": {},
   "source": [
    "Success!"
   ]
  },
  {
   "cell_type": "markdown",
   "id": "886f82dc",
   "metadata": {},
   "source": [
    "### Code 4"
   ]
  },
  {
   "cell_type": "code",
   "execution_count": 9,
   "id": "62aa501d",
   "metadata": {},
   "outputs": [
    {
     "ename": "IndexError",
     "evalue": "list index out of range",
     "output_type": "error",
     "traceback": [
      "\u001b[0;31m---------------------------------------------------------------------------\u001b[0m",
      "\u001b[0;31mIndexError\u001b[0m                                Traceback (most recent call last)",
      "Input \u001b[0;32mIn [9]\u001b[0m, in \u001b[0;36m<cell line: 4>\u001b[0;34m()\u001b[0m\n\u001b[1;32m      1\u001b[0m \u001b[38;5;66;03m# Create the variable list_a\u001b[39;00m\n\u001b[1;32m      2\u001b[0m list_a \u001b[38;5;241m=\u001b[39m [\u001b[38;5;241m1\u001b[39m,\u001b[38;5;241m2\u001b[39m,\u001b[38;5;241m3\u001b[39m,\u001b[38;5;241m4\u001b[39m,\u001b[38;5;124m'\u001b[39m\u001b[38;5;124mAyaan\u001b[39m\u001b[38;5;124m'\u001b[39m, \u001b[38;5;124m'\u001b[39m\u001b[38;5;124mHirsi\u001b[39m\u001b[38;5;124m'\u001b[39m]\n\u001b[0;32m----> 4\u001b[0m \u001b[43mlist_a\u001b[49m\u001b[43m[\u001b[49m\u001b[38;5;241;43m11\u001b[39;49m\u001b[43m]\u001b[49m\n",
      "\u001b[0;31mIndexError\u001b[0m: list index out of range"
     ]
    }
   ],
   "source": [
    "# Create the variable list_a\n",
    "list_a = [1,2,3,4,'Ayaan', 'Hirsi']\n",
    "\n",
    "list_a[11]"
   ]
  },
  {
   "cell_type": "markdown",
   "id": "52498fe9",
   "metadata": {},
   "source": [
    "This was an index error. The second line of the code was asking for the 12th item in the list, but the list only has six items. (Note that inices in Python start at 0) \n",
    "\n",
    "Fix: Choose an item from within the range from 0 to 5... (for example 0)"
   ]
  },
  {
   "cell_type": "code",
   "execution_count": 16,
   "id": "feb3a534",
   "metadata": {},
   "outputs": [
    {
     "data": {
      "text/plain": [
       "1"
      ]
     },
     "execution_count": 16,
     "metadata": {},
     "output_type": "execute_result"
    }
   ],
   "source": [
    "# Create the variable list_a\n",
    "list_a = [1,2,3,4,'Ayaan', 'Hirsi']\n",
    "\n",
    "list_a[0]"
   ]
  },
  {
   "cell_type": "markdown",
   "id": "6a2de9aa",
   "metadata": {},
   "source": [
    "Successs"
   ]
  }
 ],
 "metadata": {
  "kernelspec": {
   "display_name": "Python 3 (ipykernel)",
   "language": "python",
   "name": "python3"
  },
  "language_info": {
   "codemirror_mode": {
    "name": "ipython",
    "version": 3
   },
   "file_extension": ".py",
   "mimetype": "text/x-python",
   "name": "python",
   "nbconvert_exporter": "python",
   "pygments_lexer": "ipython3",
   "version": "3.9.12"
  }
 },
 "nbformat": 4,
 "nbformat_minor": 5
}
