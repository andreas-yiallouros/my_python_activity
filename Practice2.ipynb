{
 "cells": [
  {
   "cell_type": "code",
   "execution_count": 1,
   "id": "e9c33e35",
   "metadata": {},
   "outputs": [
    {
     "name": "stdout",
     "output_type": "stream",
     "text": [
      "My name is Andreas\n",
      "Today is Thursday, 15 September 2022 - it's a great day!\n"
     ]
    }
   ],
   "source": [
    "# This is my first line of code\n",
    "print(\"My name is Andreas\")\n",
    "print(\"Today is Thursday, 15 September 2022 - it's a great day!\")"
   ]
  },
  {
   "cell_type": "code",
   "execution_count": 2,
   "id": "405667fe",
   "metadata": {},
   "outputs": [
    {
     "name": "stdout",
     "output_type": "stream",
     "text": [
      "182900\n"
     ]
    }
   ],
   "source": [
    "# Write a program to analyse real estate data\n",
    "\n",
    "# Sales price for each of five properties (in US$)\n",
    "A = 45000\n",
    "B = 23400\n",
    "C = 67000\n",
    "D = 34600\n",
    "E = 12900\n",
    "\n",
    "# Total sales value before commission\n",
    "total_sales_Dec = A + B + C + D + E\n",
    "\n",
    "print(total_sales_Dec)"
   ]
  },
  {
   "cell_type": "code",
   "execution_count": 3,
   "id": "6f7b42b8",
   "metadata": {},
   "outputs": [
    {
     "name": "stdout",
     "output_type": "stream",
     "text": [
      "36580.0\n"
     ]
    }
   ],
   "source": [
    "# Average sales value before commission\n",
    "average_sales_Dec = total_sales_Dec / 5\n",
    "\n",
    "print(average_sales_Dec)"
   ]
  },
  {
   "cell_type": "code",
   "execution_count": 4,
   "id": "766b4e9c",
   "metadata": {},
   "outputs": [
    {
     "name": "stdout",
     "output_type": "stream",
     "text": [
      "60500\n"
     ]
    }
   ],
   "source": [
    "# Sale value after commission for property C \n",
    "price_C = C - 6500\n",
    "\n",
    "print(price_C)"
   ]
  },
  {
   "cell_type": "code",
   "execution_count": null,
   "id": "ccf166e5",
   "metadata": {},
   "outputs": [],
   "source": []
  }
 ],
 "metadata": {
  "kernelspec": {
   "display_name": "Python 3 (ipykernel)",
   "language": "python",
   "name": "python3"
  },
  "language_info": {
   "codemirror_mode": {
    "name": "ipython",
    "version": 3
   },
   "file_extension": ".py",
   "mimetype": "text/x-python",
   "name": "python",
   "nbconvert_exporter": "python",
   "pygments_lexer": "ipython3",
   "version": "3.9.12"
  }
 },
 "nbformat": 4,
 "nbformat_minor": 5
}
